{
 "cells": [
  {
   "cell_type": "markdown",
   "id": "5cadbe10",
   "metadata": {},
   "source": [
    "# Fake News\n",
    "Build a system to identify unreliable news articles.\n",
    "Dataset is gotten from [Kaggle](https://www.kaggle.com/competitions/fake-news/data)\n",
    "\n",
    "### Dataset Description\n",
    "\n",
    "* `train.csv:` A full training dataset with the following attributes:\n",
    "\n",
    "* `id:` unique id for a news article\n",
    "\n",
    "* `title:` the title of a news article\n",
    "\n",
    "* `author:` author of the news article\n",
    "\n",
    "* `text:` the text of the article; could be incomplete\n",
    "\n",
    "* `label:` a label that marks the article as potentially unreliable\n",
    "\n",
    "* `1:` unreliable or Fake news\n",
    "\n",
    "* `0:` reliable or True news\n",
    "\n",
    "* `test.csv:` A testing training dataset with all the same attributes at train.csv without the label."
   ]
  },
  {
   "cell_type": "markdown",
   "id": "bc4f99c7",
   "metadata": {},
   "source": [
    "### 1. importing libraries"
   ]
  },
  {
   "cell_type": "code",
   "execution_count": 1,
   "id": "a1b7f234",
   "metadata": {},
   "outputs": [],
   "source": [
    "import pandas as pd\n",
    "import numpy as np\n",
    "\n",
    "# Visualiztion libraries\n",
    "import matplotlib.pyplot as plt\n",
    "import seaborn as sns\n",
    "%matplotlib inline\n",
    "\n",
    "# NLP libraries to clean the text data\n",
    "import nltk\n",
    "from nltk.corpus import stopwords\n",
    "from nltk.stem import WordNetLemmatizer\n",
    "import re\n",
    "\n",
    "# Vectorization technique TF-IDF\n",
    "from sklearn.feature_extraction.text import TfidfVectorizer\n",
    "\n",
    "# For Splitting the dataset\n",
    "from sklearn.model_selection import train_test_split\n",
    "\n",
    "# Model libraries\n",
    "from sklearn.linear_model import LogisticRegression\n",
    "from sklearn.svm import SVC\n",
    "from sklearn.ensemble import RandomForestClassifier\n",
    "from sklearn.tree import DecisionTreeClassifier\n",
    "from sklearn.ensemble import GradientBoostingClassifier\n",
    "from sklearn.neighbors import KNeighborsClassifier\n",
    "from sklearn.linear_model import RidgeClassifier\n",
    "\n",
    "# For hyperparameter Tunning\n",
    "from sklearn.model_selection import GridSearchCV\n",
    "\n",
    "\n",
    "#Accuracy measuring library\n",
    "from sklearn.metrics import accuracy_score, classification_report \n",
    "from sklearn.metrics import confusion_matrix, ConfusionMatrixDisplay\n",
    "\n",
    "import warnings\n",
    "warnings.filterwarnings(\"ignore\")"
   ]
  },
  {
   "cell_type": "markdown",
   "id": "b0c97820",
   "metadata": {},
   "source": [
    "### 2. Loading the data\n",
    "\n",
    "\n"
   ]
  },
  {
   "cell_type": "code",
   "execution_count": 2,
   "id": "699228ba",
   "metadata": {},
   "outputs": [],
   "source": [
    "file_path = r'C:\\Repo\\train.csv'\n",
    "data = pd.read_csv(file_path)"
   ]
  },
  {
   "cell_type": "code",
   "execution_count": 3,
   "id": "2c051a53",
   "metadata": {},
   "outputs": [
    {
     "data": {
      "text/plain": [
       "(20800, 5)"
      ]
     },
     "execution_count": 3,
     "metadata": {},
     "output_type": "execute_result"
    }
   ],
   "source": [
    "#Returns the number of rows and columns present in the dataset\n",
    "\n",
    "data.shape "
   ]
  },
  {
   "cell_type": "code",
   "execution_count": 4,
   "id": "5e595722",
   "metadata": {},
   "outputs": [
    {
     "data": {
      "text/html": [
       "<div>\n",
       "<style scoped>\n",
       "    .dataframe tbody tr th:only-of-type {\n",
       "        vertical-align: middle;\n",
       "    }\n",
       "\n",
       "    .dataframe tbody tr th {\n",
       "        vertical-align: top;\n",
       "    }\n",
       "\n",
       "    .dataframe thead th {\n",
       "        text-align: right;\n",
       "    }\n",
       "</style>\n",
       "<table border=\"1\" class=\"dataframe\">\n",
       "  <thead>\n",
       "    <tr style=\"text-align: right;\">\n",
       "      <th></th>\n",
       "      <th>id</th>\n",
       "      <th>title</th>\n",
       "      <th>author</th>\n",
       "      <th>text</th>\n",
       "      <th>label</th>\n",
       "    </tr>\n",
       "  </thead>\n",
       "  <tbody>\n",
       "    <tr>\n",
       "      <th>0</th>\n",
       "      <td>0</td>\n",
       "      <td>House Dem Aide: We Didn’t Even See Comey’s Let...</td>\n",
       "      <td>Darrell Lucus</td>\n",
       "      <td>House Dem Aide: We Didn’t Even See Comey’s Let...</td>\n",
       "      <td>1</td>\n",
       "    </tr>\n",
       "    <tr>\n",
       "      <th>1</th>\n",
       "      <td>1</td>\n",
       "      <td>FLYNN: Hillary Clinton, Big Woman on Campus - ...</td>\n",
       "      <td>Daniel J. Flynn</td>\n",
       "      <td>Ever get the feeling your life circles the rou...</td>\n",
       "      <td>0</td>\n",
       "    </tr>\n",
       "    <tr>\n",
       "      <th>2</th>\n",
       "      <td>2</td>\n",
       "      <td>Why the Truth Might Get You Fired</td>\n",
       "      <td>Consortiumnews.com</td>\n",
       "      <td>Why the Truth Might Get You Fired October 29, ...</td>\n",
       "      <td>1</td>\n",
       "    </tr>\n",
       "    <tr>\n",
       "      <th>3</th>\n",
       "      <td>3</td>\n",
       "      <td>15 Civilians Killed In Single US Airstrike Hav...</td>\n",
       "      <td>Jessica Purkiss</td>\n",
       "      <td>Videos 15 Civilians Killed In Single US Airstr...</td>\n",
       "      <td>1</td>\n",
       "    </tr>\n",
       "    <tr>\n",
       "      <th>4</th>\n",
       "      <td>4</td>\n",
       "      <td>Iranian woman jailed for fictional unpublished...</td>\n",
       "      <td>Howard Portnoy</td>\n",
       "      <td>Print \\nAn Iranian woman has been sentenced to...</td>\n",
       "      <td>1</td>\n",
       "    </tr>\n",
       "  </tbody>\n",
       "</table>\n",
       "</div>"
      ],
      "text/plain": [
       "   id                                              title              author  \\\n",
       "0   0  House Dem Aide: We Didn’t Even See Comey’s Let...       Darrell Lucus   \n",
       "1   1  FLYNN: Hillary Clinton, Big Woman on Campus - ...     Daniel J. Flynn   \n",
       "2   2                  Why the Truth Might Get You Fired  Consortiumnews.com   \n",
       "3   3  15 Civilians Killed In Single US Airstrike Hav...     Jessica Purkiss   \n",
       "4   4  Iranian woman jailed for fictional unpublished...      Howard Portnoy   \n",
       "\n",
       "                                                text  label  \n",
       "0  House Dem Aide: We Didn’t Even See Comey’s Let...      1  \n",
       "1  Ever get the feeling your life circles the rou...      0  \n",
       "2  Why the Truth Might Get You Fired October 29, ...      1  \n",
       "3  Videos 15 Civilians Killed In Single US Airstr...      1  \n",
       "4  Print \\nAn Iranian woman has been sentenced to...      1  "
      ]
     },
     "execution_count": 4,
     "metadata": {},
     "output_type": "execute_result"
    }
   ],
   "source": [
    "# Returns the first 5 rows of the dataset\n",
    "data.head()"
   ]
  },
  {
   "cell_type": "code",
   "execution_count": 5,
   "id": "d861e3ec",
   "metadata": {},
   "outputs": [
    {
     "data": {
      "text/plain": [
       "Index(['id', 'title', 'author', 'text', 'label'], dtype='object')"
      ]
     },
     "execution_count": 5,
     "metadata": {},
     "output_type": "execute_result"
    }
   ],
   "source": [
    "# Returns the column headings\n",
    "data.columns "
   ]
  },
  {
   "cell_type": "code",
   "execution_count": 6,
   "id": "4b42f02d",
   "metadata": {},
   "outputs": [
    {
     "data": {
      "text/plain": [
       "id           0\n",
       "title      558\n",
       "author    1957\n",
       "text        39\n",
       "label        0\n",
       "dtype: int64"
      ]
     },
     "execution_count": 6,
     "metadata": {},
     "output_type": "execute_result"
    }
   ],
   "source": [
    "#To check the null values in the dataset, if there're any\n",
    "data.isnull().sum() "
   ]
  },
  {
   "cell_type": "markdown",
   "id": "aa239d53",
   "metadata": {},
   "source": [
    "### 3. Data-Preprocessing\n",
    "For further analysis, Data cleaning is required. In this Notebook, I will clean data in three stages:\n",
    "\n",
    "1. Removing the Null values\n",
    "2. Drop features that are not needed\n",
    "3. Text Processing\n"
   ]
  },
  {
   "cell_type": "code",
   "execution_count": 7,
   "id": "14046a7a",
   "metadata": {},
   "outputs": [],
   "source": [
    "df_ = data.copy() #Creating a copy of my data, I will be working on this Dataframe"
   ]
  },
  {
   "cell_type": "markdown",
   "id": "133d343c",
   "metadata": {},
   "source": [
    "### 3.1. Removing the Null Values\n",
    "\n",
    "* As `text` field has some empty fields, it can be handled in two ways:\n",
    "\n",
    " `1.` Drop the 39 rows\n",
    " \n",
    " `2.` Replace the null value with a dummy string\n",
    "\n",
    "* I'll go with the second option because, while dropping 39 rows would have no effect on accuracy as it is such a small portion of our large dataset, it's never a good idea.\n",
    "* I'm going to replace the Null(Nan) values in the `text` field with an empty `string (\"\")`."
   ]
  },
  {
   "cell_type": "code",
   "execution_count": 8,
   "id": "c5994e76",
   "metadata": {},
   "outputs": [],
   "source": [
    "df_['text'] = df_['text'].fillna('')   # As text is empty, just filled with an empty space"
   ]
  },
  {
   "cell_type": "code",
   "execution_count": 9,
   "id": "2a329016",
   "metadata": {},
   "outputs": [
    {
     "data": {
      "text/plain": [
       "id           0\n",
       "title      558\n",
       "author    1957\n",
       "text         0\n",
       "label        0\n",
       "dtype: int64"
      ]
     },
     "execution_count": 9,
     "metadata": {},
     "output_type": "execute_result"
    }
   ],
   "source": [
    "df_.isnull().sum()  # No null values found in the text field"
   ]
  },
  {
   "cell_type": "markdown",
   "id": "1f4e6916",
   "metadata": {},
   "source": [
    "### 3.2. Drop features that are not needed\n"
   ]
  },
  {
   "cell_type": "code",
   "execution_count": 10,
   "id": "f05fe762",
   "metadata": {},
   "outputs": [],
   "source": [
    "features_dropped = ['author','title','id']\n",
    "df = df_.drop(features_dropped, axis =1)"
   ]
  },
  {
   "cell_type": "code",
   "execution_count": 11,
   "id": "e0ccc920",
   "metadata": {},
   "outputs": [
    {
     "data": {
      "text/plain": [
       "Index(['text', 'label'], dtype='object')"
      ]
     },
     "execution_count": 11,
     "metadata": {},
     "output_type": "execute_result"
    }
   ],
   "source": [
    "df.columns # Returns the needed column headings"
   ]
  },
  {
   "cell_type": "markdown",
   "id": "07c85846",
   "metadata": {},
   "source": [
    "### 3.3. Text Processing\n",
    "\n",
    "1. Remove symbols `(',','-',...etc)`\n",
    "2. Remove stop words\n",
    "3. lemmatization"
   ]
  },
  {
   "cell_type": "code",
   "execution_count": 12,
   "id": "b8c1bc5a",
   "metadata": {},
   "outputs": [
    {
     "name": "stderr",
     "output_type": "stream",
     "text": [
      "[nltk_data] Downloading package stopwords to C:\\Users\\HP 1030\n",
      "[nltk_data]     G2\\AppData\\Roaming\\nltk_data...\n",
      "[nltk_data]   Package stopwords is already up-to-date!\n",
      "[nltk_data] Downloading package wordnet to C:\\Users\\HP 1030\n",
      "[nltk_data]     G2\\AppData\\Roaming\\nltk_data...\n",
      "[nltk_data]   Package wordnet is already up-to-date!\n"
     ]
    }
   ],
   "source": [
    "# Defining stop_words and lemmatizer\n",
    "\n",
    "nltk.download('stopwords')\n",
    "nltk.download('wordnet')\n",
    "\n",
    "stop_words = set(stopwords.words(\"english\"))\n",
    "\n",
    "lemmatizer = WordNetLemmatizer()\n",
    "\n",
    "# Defining clean_text function\n",
    "def clean_text(text):    \n",
    "    \n",
    "    # Removing symbols (',','-',...etc) leaving letter and readable numeric values\n",
    "    text = re.sub(r'[^A-Za-z0-9]+',' ',text)\n",
    "    \n",
    "    # converting all text to lower case\n",
    "    text = text.lower()           \n",
    "    \n",
    "    # spliting and returning all words to their dictionary form or root form using list comprehension\n",
    "    text = [lemmatizer.lemmatize(token) for token in text.split(\" \")]   # returns words dictionary meaning \n",
    "    text = [lemmatizer.lemmatize(token) for token in text]   # splits and single word into smaller piece\n",
    "    \n",
    "    # eliminating unimportant words like ('a','an','the') for model to focus on the most important words\n",
    "    text = [word for word in text if not word in stop_words] \n",
    "    \n",
    "    # to separate each words in text with whitespace\n",
    "    text = \" \".join(text)    \n",
    "    return text"
   ]
  },
  {
   "cell_type": "code",
   "execution_count": 13,
   "id": "a2e680ac",
   "metadata": {},
   "outputs": [
    {
     "name": "stdout",
     "output_type": "stream",
     "text": [
      "Wall time: 3min 5s\n"
     ]
    }
   ],
   "source": [
    "%%time\n",
    "#Creating new column for processed it takes about 2-3mins for complete excution\n",
    "df['text'] = df.text.apply(lambda x: clean_text(x))"
   ]
  },
  {
   "cell_type": "code",
   "execution_count": 14,
   "id": "72058e8e",
   "metadata": {},
   "outputs": [
    {
     "data": {
      "text/html": [
       "<div>\n",
       "<style scoped>\n",
       "    .dataframe tbody tr th:only-of-type {\n",
       "        vertical-align: middle;\n",
       "    }\n",
       "\n",
       "    .dataframe tbody tr th {\n",
       "        vertical-align: top;\n",
       "    }\n",
       "\n",
       "    .dataframe thead th {\n",
       "        text-align: right;\n",
       "    }\n",
       "</style>\n",
       "<table border=\"1\" class=\"dataframe\">\n",
       "  <thead>\n",
       "    <tr style=\"text-align: right;\">\n",
       "      <th></th>\n",
       "      <th>text</th>\n",
       "      <th>label</th>\n",
       "    </tr>\n",
       "  </thead>\n",
       "  <tbody>\n",
       "    <tr>\n",
       "      <th>0</th>\n",
       "      <td>house dem aide even see comey letter jason cha...</td>\n",
       "      <td>1</td>\n",
       "    </tr>\n",
       "    <tr>\n",
       "      <th>1</th>\n",
       "      <td>ever get feeling life circle roundabout rather...</td>\n",
       "      <td>0</td>\n",
       "    </tr>\n",
       "    <tr>\n",
       "      <th>2</th>\n",
       "      <td>truth might get fired october 29 2016 tension ...</td>\n",
       "      <td>1</td>\n",
       "    </tr>\n",
       "    <tr>\n",
       "      <th>3</th>\n",
       "      <td>video 15 civilian killed single u airstrike id...</td>\n",
       "      <td>1</td>\n",
       "    </tr>\n",
       "    <tr>\n",
       "      <th>4</th>\n",
       "      <td>print iranian woman ha sentenced six year pris...</td>\n",
       "      <td>1</td>\n",
       "    </tr>\n",
       "    <tr>\n",
       "      <th>5</th>\n",
       "      <td>trying time jackie mason voice reason week exc...</td>\n",
       "      <td>0</td>\n",
       "    </tr>\n",
       "    <tr>\n",
       "      <th>6</th>\n",
       "      <td>ever wonder britain iconic pop pianist get lon...</td>\n",
       "      <td>1</td>\n",
       "    </tr>\n",
       "    <tr>\n",
       "      <th>7</th>\n",
       "      <td>paris france chose idealistic traditional cand...</td>\n",
       "      <td>0</td>\n",
       "    </tr>\n",
       "    <tr>\n",
       "      <th>8</th>\n",
       "      <td>donald j trump scheduled make highly anticipat...</td>\n",
       "      <td>0</td>\n",
       "    </tr>\n",
       "    <tr>\n",
       "      <th>9</th>\n",
       "      <td>week michael flynn resigned national security ...</td>\n",
       "      <td>0</td>\n",
       "    </tr>\n",
       "  </tbody>\n",
       "</table>\n",
       "</div>"
      ],
      "text/plain": [
       "                                                text  label\n",
       "0  house dem aide even see comey letter jason cha...      1\n",
       "1  ever get feeling life circle roundabout rather...      0\n",
       "2  truth might get fired october 29 2016 tension ...      1\n",
       "3  video 15 civilian killed single u airstrike id...      1\n",
       "4  print iranian woman ha sentenced six year pris...      1\n",
       "5  trying time jackie mason voice reason week exc...      0\n",
       "6  ever wonder britain iconic pop pianist get lon...      1\n",
       "7  paris france chose idealistic traditional cand...      0\n",
       "8  donald j trump scheduled make highly anticipat...      0\n",
       "9  week michael flynn resigned national security ...      0"
      ]
     },
     "execution_count": 14,
     "metadata": {},
     "output_type": "execute_result"
    }
   ],
   "source": [
    "df.head(10)"
   ]
  },
  {
   "cell_type": "markdown",
   "id": "6bbef75f",
   "metadata": {},
   "source": [
    "### 4. Feature Extraction \n"
   ]
  },
  {
   "cell_type": "code",
   "execution_count": 15,
   "id": "d2adfb61",
   "metadata": {},
   "outputs": [],
   "source": [
    "X = df['text']\n",
    "Y = df['label']\n",
    "\n",
    "#Split the data into training and test set\n",
    "x_train, x_test, y_train, y_test = train_test_split(X, Y, test_size=0.2)"
   ]
  },
  {
   "cell_type": "code",
   "execution_count": 16,
   "id": "ee23c3ad",
   "metadata": {},
   "outputs": [
    {
     "name": "stdout",
     "output_type": "stream",
     "text": [
      "the number of train data is 16640\n",
      "the number of text data is 4160\n"
     ]
    }
   ],
   "source": [
    "print('the number of train data is', x_train.shape[0])\n",
    "print('the number of text data is', x_test.shape[0])"
   ]
  },
  {
   "cell_type": "code",
   "execution_count": 17,
   "id": "4d05292a",
   "metadata": {},
   "outputs": [
    {
     "data": {
      "text/plain": [
       "'video 15 civilian killed single u airstrike identified rate civilian killed american airstrikes afghanistan higher wa 2014 u wa engaged active combat operation photo hellfire missile loaded onto u military reaper drone afghanistan staff sgt brian ferguson u air force bureau ha able identify 15 civilian killed single u drone strike afghanistan last month biggest loss civilian life one strike since attack medecins sans frontieres hospital msf last october u claimed conducted counter terrorism strike islamic state fighter hit nangarhar province missile september 28 next day united nation issued unusually rapid strong statement saying strike killed 15 civilian injured 13 others gathered house celebrate tribal elder return pilgrimage mecca bureau spoke man named haji rais said wa owner house wa targeted said 15 people killed 19 others injured provided name listed bureau wa able independently verify identity died rais son headmaster local school wa among another man abdul hakim lost three son attack rais said involvement denied u claim member visited house strike said even speak sort people phone let alone receiving house death amount biggest confirmed loss civilian life single american strike afghanistan since attack msf hospital kunduz last october killed least 42 people nangarhar strike wa u attack kill civilian september bureau data indicates many 45 civilian allied soldier killed four american strike afghanistan somalia month september 18 pair strike killed eight afghan policeman tarinkot capital urozgan provice u jet reportedly hit police checkpoint killing one officer returning target first responder use tactic known double tap strike controversial often hit civilian rescuer u told bureau conducted strike individual firing posing threat afghan force email directly address allegation afghan policeman killed end month somalia citizen burnt u flag street north central city galcayo emerged drone attack may unintentionally killed 22 somali soldier civilian strike occurred day one nangarhar somali afghan incident u first denied non combatant killed investigating strike nangarhar galcayo rate civilian killed american airstrikes afghanistan higher wa 2014 u wa engaged active combat operation name'"
      ]
     },
     "execution_count": 17,
     "metadata": {},
     "output_type": "execute_result"
    }
   ],
   "source": [
    "# checking one of the texts\n",
    "df['text'][3]"
   ]
  },
  {
   "cell_type": "markdown",
   "id": "9507299f",
   "metadata": {},
   "source": [
    "### 5. Vectorization\n",
    "This is used to handle our text data, by converting it into vectors."
   ]
  },
  {
   "cell_type": "code",
   "execution_count": 18,
   "id": "0677a69b",
   "metadata": {},
   "outputs": [],
   "source": [
    "#Vectorization\n",
    "vectorization = TfidfVectorizer()\n",
    "\n",
    "xv_train = vectorization.fit_transform(x_train)\n",
    "\n",
    "xv_test = vectorization.transform(x_test)"
   ]
  },
  {
   "cell_type": "code",
   "execution_count": null,
   "id": "2c914e0b",
   "metadata": {},
   "outputs": [],
   "source": [
    "# Viewing the vectorized text\n",
    "xv_test"
   ]
  },
  {
   "cell_type": "markdown",
   "id": "bbd8d71b",
   "metadata": {},
   "source": [
    "### 6. Model Fitting\n",
    "I will be fitting my data onto 7 classifications models\n",
    "\n",
    " 1. Logistic Regression\n",
    " 2. SVM\n",
    " 3. Random Forest Classifier\n",
    " 4. KNeighbors classifier\n",
    " 5. Decision Tree classifier\n",
    " 6. Ridge Classifier\n",
    " 7. Gradient Boosting classifier\n",
    "\n",
    "The best one amongst the 7 will be used further"
   ]
  },
  {
   "cell_type": "code",
   "execution_count": 20,
   "id": "1edc1134",
   "metadata": {},
   "outputs": [],
   "source": [
    "# using different models\n",
    "\n",
    "# puting models in dictionary\n",
    "models ={'Ridge Classifier':RidgeClassifier(),\n",
    "        'svm_model': SVC(),\n",
    "        'Logistic Regression':LogisticRegression(),\n",
    "        'Gradient Boostingclassifier':GradientBoostingClassifier(),\n",
    "        'Random Forest classifier':RandomForestClassifier(),\n",
    "        'Decision Tree classifier':DecisionTreeClassifier(),\n",
    "        'KNeighbors classifier':KNeighborsClassifier(),}\n",
    "\n",
    "#creating a dictionary to keep model scores\n",
    "model_score = dict()\n",
    "\n",
    "# creating a function further code re-use\n",
    "def test_and_score(models, xv_train, xv_test, y_train, y_test):\n",
    "    \"\"\"\n",
    "    fiting and evaluating different machine learning models\n",
    "    models : dictionary of different models from sklearn machine learning model\n",
    "    xv_train = vectorized training data \n",
    "    xv_test = vectorized testing data \n",
    "    y_train = training labels\n",
    "    y_test = testing labels\n",
    "    \"\"\"\n",
    "    # setting up a random seed\n",
    "    np.random.seed(42)\n",
    "\n",
    "    #looping through the data\n",
    "\n",
    "    for name, model in models.items():\n",
    "        model.fit(xv_train, y_train)\n",
    "    # evaluating the model and appending the model into model_scores\n",
    "        model_score[name] = model.score(xv_test, y_test)\n",
    "    return model_score"
   ]
  },
  {
   "cell_type": "code",
   "execution_count": 21,
   "id": "a7e5f8ff",
   "metadata": {
    "scrolled": true
   },
   "outputs": [
    {
     "name": "stdout",
     "output_type": "stream",
     "text": [
      "Wall time: 26min 45s\n"
     ]
    },
    {
     "data": {
      "text/plain": [
       "{'Ridge Classifier': 0.9632211538461538,\n",
       " 'svm_model': 0.9591346153846154,\n",
       " 'Logistic Regression': 0.948076923076923,\n",
       " 'Gradient Boostingclassifier': 0.9362980769230769,\n",
       " 'Random Forest classifier': 0.9158653846153846,\n",
       " 'Decision Tree classifier': 0.8870192307692307,\n",
       " 'KNeighbors classifier': 0.5764423076923076}"
      ]
     },
     "execution_count": 21,
     "metadata": {},
     "output_type": "execute_result"
    }
   ],
   "source": [
    "%%time\n",
    "# this takes about 10-25min to load\n",
    "\n",
    "score = test_and_score(models = models, xv_train = xv_train , xv_test = xv_test, y_train = y_train, y_test = y_test)\n",
    "score"
   ]
  },
  {
   "cell_type": "code",
   "execution_count": 22,
   "id": "ba13830d",
   "metadata": {},
   "outputs": [
    {
     "data": {
      "text/html": [
       "<div>\n",
       "<style scoped>\n",
       "    .dataframe tbody tr th:only-of-type {\n",
       "        vertical-align: middle;\n",
       "    }\n",
       "\n",
       "    .dataframe tbody tr th {\n",
       "        vertical-align: top;\n",
       "    }\n",
       "\n",
       "    .dataframe thead th {\n",
       "        text-align: right;\n",
       "    }\n",
       "</style>\n",
       "<table border=\"1\" class=\"dataframe\">\n",
       "  <thead>\n",
       "    <tr style=\"text-align: right;\">\n",
       "      <th></th>\n",
       "      <th>Ridge Classifier</th>\n",
       "      <th>svm_model</th>\n",
       "      <th>Logistic Regression</th>\n",
       "      <th>Gradient Boostingclassifier</th>\n",
       "      <th>Random Forest classifier</th>\n",
       "      <th>Decision Tree classifier</th>\n",
       "      <th>KNeighbors classifier</th>\n",
       "    </tr>\n",
       "  </thead>\n",
       "  <tbody>\n",
       "    <tr>\n",
       "      <th>accuracy_score</th>\n",
       "      <td>0.963221</td>\n",
       "      <td>0.959135</td>\n",
       "      <td>0.948077</td>\n",
       "      <td>0.936298</td>\n",
       "      <td>0.915865</td>\n",
       "      <td>0.887019</td>\n",
       "      <td>0.576442</td>\n",
       "    </tr>\n",
       "  </tbody>\n",
       "</table>\n",
       "</div>"
      ],
      "text/plain": [
       "                Ridge Classifier  svm_model  Logistic Regression  \\\n",
       "accuracy_score          0.963221   0.959135             0.948077   \n",
       "\n",
       "                Gradient Boostingclassifier  Random Forest classifier  \\\n",
       "accuracy_score                     0.936298                  0.915865   \n",
       "\n",
       "                Decision Tree classifier  KNeighbors classifier  \n",
       "accuracy_score                  0.887019               0.576442  "
      ]
     },
     "execution_count": 22,
     "metadata": {},
     "output_type": "execute_result"
    }
   ],
   "source": [
    "# putting the accuracy score in a dataFrame\n",
    "Score_df =pd.DataFrame(score, index=['accuracy_score'])\n",
    "Score_df"
   ]
  },
  {
   "cell_type": "code",
   "execution_count": 23,
   "id": "9a7222ec",
   "metadata": {},
   "outputs": [
    {
     "data": {
      "text/plain": [
       "Text(0.5, 0, 'model performance')"
      ]
     },
     "execution_count": 23,
     "metadata": {},
     "output_type": "execute_result"
    },
    {
     "data": {
      "image/png": "[encoded data removed]",
      "text/plain": [
       "<Figure size 576x360 with 1 Axes>"
      ]
     },
     "metadata": {
      "needs_background": "light"
     },
     "output_type": "display_data"
    }
   ],
   "source": [
    "# visualizing the model_score result for easy grasp of the result\n",
    "\n",
    "plt.figure(figsize=(8,5))\n",
    "plt.xticks(rotation = 90)\n",
    "\n",
    "model_compr = pd.DataFrame(data = model_score, index=['accuracy_score'])\n",
    "\n",
    "sns.barplot(data=model_compr)\n",
    "plt.ylabel('accuracy_score')\n",
    "plt.xlabel('model performance')"
   ]
  },
  {
   "cell_type": "markdown",
   "id": "9504726f",
   "metadata": {},
   "source": [
    "### 7. Model Evaluation and comparison"
   ]
  },
  {
   "cell_type": "code",
   "execution_count": 24,
   "id": "76a67e56",
   "metadata": {},
   "outputs": [],
   "source": [
    "# importing library that willl allow us to iterate through models dictionary\n",
    "\n",
    "import itertools\n",
    "\n",
    "pred_dict = dict()\n",
    "\n",
    "# iterating through models dictionary to select the best three models\n",
    "model_to_use = dict(itertools.islice(models.items(), 3))\n",
    "\n",
    "# creating a function for further code re-use\n",
    "def predict(model_to_use, xv_test):\n",
    "    \"\"\"\n",
    "    testing and evaluating 3 different machine learning models\n",
    "    pred_dict : dictionary of different models from sklearn machine learning model\n",
    "    xv_test = vectorized testing data \n",
    "    \"\"\"\n",
    "    #looping through the data\n",
    "    for name, model in model_to_use.items():\n",
    "        pred_dict[name] = model.predict(xv_test)\n",
    "    return pred_dict"
   ]
  },
  {
   "cell_type": "code",
   "execution_count": 25,
   "id": "04905d18",
   "metadata": {
    "scrolled": true
   },
   "outputs": [
    {
     "name": "stdout",
     "output_type": "stream",
     "text": [
      "Wall time: 1min 41s\n"
     ]
    }
   ],
   "source": [
    "%%time\n",
    "# Returns each model prediction score and turn it into DatFrame for comparison\n",
    "\n",
    "scor = predict(model_to_use=model_to_use, xv_test=xv_test)\n",
    "df_pred =pd.DataFrame({'Actual':y_test, 'predicted Ridge Classifier':scor['Ridge Classifier'],\n",
    "                  'predicted svm_model':scor['svm_model'],'predicted Logistic Regression':scor['Logistic Regression']})"
   ]
  },
  {
   "cell_type": "code",
   "execution_count": 26,
   "id": "2919c0b1",
   "metadata": {},
   "outputs": [
    {
     "data": {
      "text/html": [
       "<div>\n",
       "<style scoped>\n",
       "    .dataframe tbody tr th:only-of-type {\n",
       "        vertical-align: middle;\n",
       "    }\n",
       "\n",
       "    .dataframe tbody tr th {\n",
       "        vertical-align: top;\n",
       "    }\n",
       "\n",
       "    .dataframe thead th {\n",
       "        text-align: right;\n",
       "    }\n",
       "</style>\n",
       "<table border=\"1\" class=\"dataframe\">\n",
       "  <thead>\n",
       "    <tr style=\"text-align: right;\">\n",
       "      <th></th>\n",
       "      <th>Actual</th>\n",
       "      <th>predicted Ridge Classifier</th>\n",
       "      <th>predicted svm_model</th>\n",
       "      <th>predicted Logistic Regression</th>\n",
       "    </tr>\n",
       "  </thead>\n",
       "  <tbody>\n",
       "    <tr>\n",
       "      <th>11092</th>\n",
       "      <td>1</td>\n",
       "      <td>1</td>\n",
       "      <td>1</td>\n",
       "      <td>1</td>\n",
       "    </tr>\n",
       "    <tr>\n",
       "      <th>13516</th>\n",
       "      <td>1</td>\n",
       "      <td>1</td>\n",
       "      <td>1</td>\n",
       "      <td>1</td>\n",
       "    </tr>\n",
       "    <tr>\n",
       "      <th>5485</th>\n",
       "      <td>1</td>\n",
       "      <td>1</td>\n",
       "      <td>1</td>\n",
       "      <td>1</td>\n",
       "    </tr>\n",
       "    <tr>\n",
       "      <th>1140</th>\n",
       "      <td>1</td>\n",
       "      <td>1</td>\n",
       "      <td>1</td>\n",
       "      <td>1</td>\n",
       "    </tr>\n",
       "    <tr>\n",
       "      <th>8836</th>\n",
       "      <td>0</td>\n",
       "      <td>0</td>\n",
       "      <td>0</td>\n",
       "      <td>0</td>\n",
       "    </tr>\n",
       "    <tr>\n",
       "      <th>673</th>\n",
       "      <td>0</td>\n",
       "      <td>0</td>\n",
       "      <td>0</td>\n",
       "      <td>0</td>\n",
       "    </tr>\n",
       "    <tr>\n",
       "      <th>968</th>\n",
       "      <td>0</td>\n",
       "      <td>0</td>\n",
       "      <td>0</td>\n",
       "      <td>0</td>\n",
       "    </tr>\n",
       "    <tr>\n",
       "      <th>14637</th>\n",
       "      <td>0</td>\n",
       "      <td>0</td>\n",
       "      <td>0</td>\n",
       "      <td>0</td>\n",
       "    </tr>\n",
       "    <tr>\n",
       "      <th>9781</th>\n",
       "      <td>1</td>\n",
       "      <td>1</td>\n",
       "      <td>1</td>\n",
       "      <td>1</td>\n",
       "    </tr>\n",
       "    <tr>\n",
       "      <th>14431</th>\n",
       "      <td>0</td>\n",
       "      <td>0</td>\n",
       "      <td>0</td>\n",
       "      <td>0</td>\n",
       "    </tr>\n",
       "    <tr>\n",
       "      <th>2440</th>\n",
       "      <td>0</td>\n",
       "      <td>0</td>\n",
       "      <td>0</td>\n",
       "      <td>0</td>\n",
       "    </tr>\n",
       "    <tr>\n",
       "      <th>19153</th>\n",
       "      <td>0</td>\n",
       "      <td>0</td>\n",
       "      <td>0</td>\n",
       "      <td>0</td>\n",
       "    </tr>\n",
       "    <tr>\n",
       "      <th>2653</th>\n",
       "      <td>1</td>\n",
       "      <td>1</td>\n",
       "      <td>1</td>\n",
       "      <td>1</td>\n",
       "    </tr>\n",
       "    <tr>\n",
       "      <th>1694</th>\n",
       "      <td>1</td>\n",
       "      <td>1</td>\n",
       "      <td>1</td>\n",
       "      <td>1</td>\n",
       "    </tr>\n",
       "    <tr>\n",
       "      <th>14506</th>\n",
       "      <td>0</td>\n",
       "      <td>0</td>\n",
       "      <td>0</td>\n",
       "      <td>0</td>\n",
       "    </tr>\n",
       "    <tr>\n",
       "      <th>6711</th>\n",
       "      <td>1</td>\n",
       "      <td>1</td>\n",
       "      <td>1</td>\n",
       "      <td>1</td>\n",
       "    </tr>\n",
       "    <tr>\n",
       "      <th>15932</th>\n",
       "      <td>0</td>\n",
       "      <td>0</td>\n",
       "      <td>0</td>\n",
       "      <td>0</td>\n",
       "    </tr>\n",
       "    <tr>\n",
       "      <th>18756</th>\n",
       "      <td>0</td>\n",
       "      <td>0</td>\n",
       "      <td>0</td>\n",
       "      <td>0</td>\n",
       "    </tr>\n",
       "    <tr>\n",
       "      <th>9700</th>\n",
       "      <td>1</td>\n",
       "      <td>1</td>\n",
       "      <td>1</td>\n",
       "      <td>1</td>\n",
       "    </tr>\n",
       "    <tr>\n",
       "      <th>19251</th>\n",
       "      <td>0</td>\n",
       "      <td>0</td>\n",
       "      <td>0</td>\n",
       "      <td>0</td>\n",
       "    </tr>\n",
       "  </tbody>\n",
       "</table>\n",
       "</div>"
      ],
      "text/plain": [
       "       Actual  predicted Ridge Classifier  predicted svm_model  \\\n",
       "11092       1                           1                    1   \n",
       "13516       1                           1                    1   \n",
       "5485        1                           1                    1   \n",
       "1140        1                           1                    1   \n",
       "8836        0                           0                    0   \n",
       "673         0                           0                    0   \n",
       "968         0                           0                    0   \n",
       "14637       0                           0                    0   \n",
       "9781        1                           1                    1   \n",
       "14431       0                           0                    0   \n",
       "2440        0                           0                    0   \n",
       "19153       0                           0                    0   \n",
       "2653        1                           1                    1   \n",
       "1694        1                           1                    1   \n",
       "14506       0                           0                    0   \n",
       "6711        1                           1                    1   \n",
       "15932       0                           0                    0   \n",
       "18756       0                           0                    0   \n",
       "9700        1                           1                    1   \n",
       "19251       0                           0                    0   \n",
       "\n",
       "       predicted Logistic Regression  \n",
       "11092                              1  \n",
       "13516                              1  \n",
       "5485                               1  \n",
       "1140                               1  \n",
       "8836                               0  \n",
       "673                                0  \n",
       "968                                0  \n",
       "14637                              0  \n",
       "9781                               1  \n",
       "14431                              0  \n",
       "2440                               0  \n",
       "19153                              0  \n",
       "2653                               1  \n",
       "1694                               1  \n",
       "14506                              0  \n",
       "6711                               1  \n",
       "15932                              0  \n",
       "18756                              0  \n",
       "9700                               1  \n",
       "19251                              0  "
      ]
     },
     "execution_count": 26,
     "metadata": {},
     "output_type": "execute_result"
    }
   ],
   "source": [
    "# showing the first 20 predicted values of the models for comparison\n",
    "df_pred.head(20)"
   ]
  },
  {
   "cell_type": "code",
   "execution_count": 27,
   "id": "e60b067b",
   "metadata": {
    "scrolled": true
   },
   "outputs": [],
   "source": [
    "# creating a function for further code re-use\n",
    "\n",
    "def evaluation_report(y_test, pred_dict):\n",
    "\n",
    "    \"\"\"y_test = acual score\n",
    "    pred_dict = a dictionary that holds the three tested models\n",
    "    \"\"\"\n",
    "    \n",
    "    #looping through the data\n",
    "    for name, predict in pred_dict.items():\n",
    "        \n",
    "        matrix = confusion_matrix(y_test, predict)\n",
    "        \n",
    "        print('the accuracy_score for',name,'is',accuracy_score(y_test, predict),'\\n')\n",
    "        print('the classification_report for',name,'\\n',classification_report(y_test, predict),'\\n')\n",
    "        display = ConfusionMatrixDisplay(confusion_matrix = matrix, display_labels=['Fake','True']).plot() \n",
    "        \n",
    "        print('Report',name,'\\n',display)\n",
    "        \n",
    "        plt.show()\n",
    "        \n",
    "    return plt.show()"
   ]
  },
  {
   "cell_type": "code",
   "execution_count": 28,
   "id": "f3d554b2",
   "metadata": {
    "scrolled": false
   },
   "outputs": [
    {
     "name": "stdout",
     "output_type": "stream",
     "text": [
      "the accuracy_score for Ridge Classifier is 0.9632211538461538 \n",
      "\n",
      "the classification_report for Ridge Classifier \n",
      "               precision    recall  f1-score   support\n",
      "\n",
      "           0       0.97      0.96      0.96      2022\n",
      "           1       0.96      0.97      0.96      2138\n",
      "\n",
      "    accuracy                           0.96      4160\n",
      "   macro avg       0.96      0.96      0.96      4160\n",
      "weighted avg       0.96      0.96      0.96      4160\n",
      " \n",
      "\n",
      "Report Ridge Classifier \n",
      " <sklearn.metrics._plot.confusion_matrix.ConfusionMatrixDisplay object at 0x00000220BB0BA580>\n"
     ]
    },
    {
     "data": {
      "image/png": "[encoded data removed]",
      "text/plain": [
       "<Figure size 432x288 with 2 Axes>"
      ]
     },
     "metadata": {
      "needs_background": "light"
     },
     "output_type": "display_data"
    },
    {
     "name": "stdout",
     "output_type": "stream",
     "text": [
      "the accuracy_score for svm_model is 0.9591346153846154 \n",
      "\n",
      "the classification_report for svm_model \n",
      "               precision    recall  f1-score   support\n",
      "\n",
      "           0       0.96      0.95      0.96      2022\n",
      "           1       0.95      0.97      0.96      2138\n",
      "\n",
      "    accuracy                           0.96      4160\n",
      "   macro avg       0.96      0.96      0.96      4160\n",
      "weighted avg       0.96      0.96      0.96      4160\n",
      " \n",
      "\n",
      "Report svm_model \n",
      " <sklearn.metrics._plot.confusion_matrix.ConfusionMatrixDisplay object at 0x00000220BB0BA400>\n"
     ]
    },
    {
     "data": {
      "image/png": "[encoded data removed]",
      "text/plain": [
       "<Figure size 432x288 with 2 Axes>"
      ]
     },
     "metadata": {
      "needs_background": "light"
     },
     "output_type": "display_data"
    },
    {
     "name": "stdout",
     "output_type": "stream",
     "text": [
      "the accuracy_score for Logistic Regression is 0.948076923076923 \n",
      "\n",
      "the classification_report for Logistic Regression \n",
      "               precision    recall  f1-score   support\n",
      "\n",
      "           0       0.95      0.94      0.95      2022\n",
      "           1       0.94      0.95      0.95      2138\n",
      "\n",
      "    accuracy                           0.95      4160\n",
      "   macro avg       0.95      0.95      0.95      4160\n",
      "weighted avg       0.95      0.95      0.95      4160\n",
      " \n",
      "\n",
      "Report Logistic Regression \n",
      " <sklearn.metrics._plot.confusion_matrix.ConfusionMatrixDisplay object at 0x00000220BB3CEF70>\n"
     ]
    },
    {
     "data": {
      "image/png": "[encoded data removed]",
      "text/plain": [
       "<Figure size 432x288 with 2 Axes>"
      ]
     },
     "metadata": {
      "needs_background": "light"
     },
     "output_type": "display_data"
    }
   ],
   "source": [
    "evaluation_report(y_test, pred_dict)"
   ]
  },
  {
   "cell_type": "markdown",
   "id": "1d91febf",
   "metadata": {},
   "source": [
    "## Hyperparameter Tuning\n",
    "To Check for the best kernel for SVC model, a function and for loop is created to pick the best kernel after which, i carry out hyperparameter turning on the best kernel to get the best parameters for the model.\n",
    "`NOTE: it takes longer time for complete excution`"
   ]
  },
  {
   "cell_type": "code",
   "execution_count": 29,
   "id": "310fea89",
   "metadata": {
    "scrolled": false
   },
   "outputs": [
    {
     "name": "stdout",
     "output_type": "stream",
     "text": [
      "Evaluation: Polynomial kernel\n",
      "              precision    recall  f1-score   support\n",
      "\n",
      "           0       0.49      1.00      0.65      2022\n",
      "           1       0.00      0.00      0.00      2138\n",
      "\n",
      "    accuracy                           0.49      4160\n",
      "   macro avg       0.24      0.50      0.33      4160\n",
      "weighted avg       0.24      0.49      0.32      4160\n",
      "\n",
      "Test Score:  0.4860576923076923\n",
      "Evaluation: RBF kernel\n",
      "              precision    recall  f1-score   support\n",
      "\n",
      "           0       0.49      1.00      0.65      2022\n",
      "           1       0.00      0.00      0.00      2138\n",
      "\n",
      "    accuracy                           0.49      4160\n",
      "   macro avg       0.24      0.50      0.33      4160\n",
      "weighted avg       0.24      0.49      0.32      4160\n",
      "\n",
      "Test Score:  0.4860576923076923\n",
      "Evaluation: Sigmoid kernel\n",
      "              precision    recall  f1-score   support\n",
      "\n",
      "           0       0.49      1.00      0.65      2022\n",
      "           1       0.00      0.00      0.00      2138\n",
      "\n",
      "    accuracy                           0.49      4160\n",
      "   macro avg       0.24      0.50      0.33      4160\n",
      "weighted avg       0.24      0.49      0.32      4160\n",
      "\n",
      "Test Score:  0.4860576923076923\n",
      "Evaluation: Linear kernel\n",
      "              precision    recall  f1-score   support\n",
      "\n",
      "           0       0.96      0.96      0.96      2022\n",
      "           1       0.96      0.97      0.96      2138\n",
      "\n",
      "    accuracy                           0.96      4160\n",
      "   macro avg       0.96      0.96      0.96      4160\n",
      "weighted avg       0.96      0.96      0.96      4160\n",
      "\n",
      "Test Score:  0.9617788461538461\n"
     ]
    }
   ],
   "source": [
    "# A function which returns the corresponding SVC model\n",
    "\n",
    "kernels = ['Polynomial', 'RBF', 'Sigmoid','Linear']\n",
    "def get_best_classifier(kernel_type):\n",
    "    \n",
    "    if kernel_type == 0:\n",
    "        # Polynomial kernal\n",
    "        return SVC(kernel='poly', degree=8, gamma=\"auto\")\n",
    "    \n",
    "    elif kernel_type == 1:\n",
    "        # Radial Basis Function kernal\n",
    "        return SVC(kernel='rbf', gamma=\"auto\")\n",
    "    \n",
    "    elif kernel_type == 2:\n",
    "        # Sigmoid kernal\n",
    "        return SVC(kernel='sigmoid', gamma=\"auto\")\n",
    "    \n",
    "    elif kernel_type == 3:\n",
    "        # Linear kernal\n",
    "        return SVC(kernel='linear', gamma=\"auto\")\n",
    "\n",
    "for i in range(4):\n",
    "    # Train a SVC model using different kernal\n",
    "    svc_model = get_best_classifier(i) \n",
    "    \n",
    "    svc_model.fit(xv_train, y_train)\n",
    "    # print best parameter after tuning \n",
    "    \n",
    "    y_pred = svc_model.predict(xv_test) # Make prediction\n",
    "    \n",
    "    print(\"Evaluation:\", kernels[i], \"kernel\") # Evaluate our model\n",
    "    \n",
    "    print(classification_report(y_test,y_pred))\n",
    "    \n",
    "    # print best train score after tuning \n",
    "    print(\"Test Score: \", svc_model.score(xv_test, y_test))"
   ]
  },
  {
   "cell_type": "markdown",
   "id": "4ccfea71",
   "metadata": {},
   "source": [
    "###  Tuning the SCV Linear kernel to choose the best parameter."
   ]
  },
  {
   "cell_type": "code",
   "execution_count": 39,
   "id": "a174d589",
   "metadata": {},
   "outputs": [
    {
     "data": {
      "text/plain": [
       "GridSearchCV(cv=5, estimator=SVC(), n_jobs=3,\n",
       "             param_grid={'C': [0.1, 1, 10, 100, 1000],\n",
       "                         'gamma': [1, 0.1, 0.01, 0.001, 0.0001],\n",
       "                         'kernel': ['linear']},\n",
       "             verbose=3)"
      ]
     },
     "execution_count": 39,
     "metadata": {},
     "output_type": "execute_result"
    }
   ],
   "source": [
    "para_mid = {'C': [0.1, 1, 10, 100, 1000], \n",
    "            'gamma': [1, 0.1, 0.01, 0.001, 0.0001],\n",
    "            'kernel': ['linear']}\n",
    "svm_model_ = GridSearchCV(SVC(), para_mid, cv = 5 , verbose = 3 ,refit = True, n_jobs = 3)\n",
    "svm_model_"
   ]
  },
  {
   "cell_type": "code",
   "execution_count": 40,
   "id": "1d79a760",
   "metadata": {},
   "outputs": [
    {
     "name": "stdout",
     "output_type": "stream",
     "text": [
      "Fitting 5 folds for each of 25 candidates, totalling 125 fits\n",
      "best parameters:  {'C': 1, 'gamma': 1, 'kernel': 'linear'}\n",
      "Train SCore:  0.9581129807692307\n",
      "Test Score:  0.9617788461538461\n"
     ]
    }
   ],
   "source": [
    "# fitting the model for grid search \n",
    "svm_model_.fit(xv_train, y_train)\n",
    "\n",
    "# print best parameter after tuning \n",
    "print(\"best parameters: \",svm_model_.best_params_)\n",
    "\n",
    "# print best train score after tuning \n",
    "print(\"Train SCore: \", svm_model_.best_score_ )\n",
    "\n",
    "# print best train score after tuning \n",
    "print(\"Test Score: \", svm_model_.score(xv_test, y_test))"
   ]
  },
  {
   "cell_type": "markdown",
   "id": "76554263",
   "metadata": {},
   "source": [
    "### 8.  Manual Model Testing\n"
   ]
  },
  {
   "cell_type": "code",
   "execution_count": 45,
   "id": "cb190baa",
   "metadata": {},
   "outputs": [],
   "source": [
    "# Because SVM provides the best results, it will be used evaluate the news authenticity.\n",
    "\n",
    "def out_put(word):\n",
    "    if word == 1:\n",
    "        return \"Fake News\"\n",
    "    elif word == 0:\n",
    "        return \"True News\" \n",
    "\n",
    "    \n",
    "def manual_testing(news):           \n",
    "    # creating a \"TECT\" dictionary assigning it to \"testing_news\" variable.\n",
    "    testing_news = {\"text\":[news]}\n",
    "    \n",
    "    # creates a table or dataframe\n",
    "    new_def_test = pd.DataFrame(testing_news)    \n",
    "    \n",
    "    # applied text cleaning and processing on the new text\n",
    "    new_def_test[\"text\"] = new_def_test[\"text\"].apply(clean_text) \n",
    "    \n",
    "    # assigning \"new_def_test[\"text\"]\" to a new variable\n",
    "    new_x_test = new_def_test[\"text\"] \n",
    "    \n",
    "    # transforming the new_x_test to vector for easy prediction by the trained model\n",
    "    New_xv_test = vectorization.transform(new_x_test)\n",
    "    \n",
    "    # modeling the new text for possible prediction\n",
    "    svm_model_prediction =svm_model_.predict(New_xv_test)\n",
    "\n",
    "    return print('\\nsvm_model_prediction: {}'.format(out_put(svm_model_prediction)))"
   ]
  },
  {
   "cell_type": "code",
   "execution_count": 46,
   "id": "9f7c1b0d",
   "metadata": {
    "scrolled": false
   },
   "outputs": [
    {
     "name": "stdout",
     "output_type": "stream",
     "text": [
      "Paste text here: \n",
      "Print Email http://humansarefree.com/2016/10/indias-stonehenge-7000-year-old.html A remarkable 7,000-year-old megalithic site that served as an astronomical observatory has been found in Muduma village in Telangana, India. The discovery has been hailed as one of the most significant archaeological findings in India over the last few decades.According to Times of India , the team of archeologists described it as \"the only megalithic site in India, where a depiction of a star constellation has been identified.\" The ancient observatory dates to 5,000 BC and the researchers believe that it is the earliest astronomical observatory discovered in India and perhaps even in the whole of South Asia.The site consists of around 80 huge menhirs (standing stones), which are 3.5 â€“ 4 meters tall. There are also about 2000 alignment stones, which are 30-60cm tall.According to experts, no other excavation site in India has so many menhirs concentrated in such a small area. The maximum concentration of menhirs is located in the central portion of the monument.One of the surprising details discovered at the site is a depiction of the constellation known as Ursa Major, which is formed from small cup-sized pits carved into a standing stone. The group of about 30 cup-marks were arranged in the same shape in which Ursa Major can be observed in the night sky with the naked eye. The carving depicts not only the prominent seven starts, but also the peripheral stars too. The large standing stones that form an observatory in Telangana, India ( Satya Vijayi ) Moreover, as ArcheoFeed.com reported: an \"imaginary line drawn through the top two stars point to pole star or the North Star.\"Researchers believe that the site still holds many secrets. The next planned research will take a place in December led by archeologists from Korea.Numerous prehistoric observatories have already been discovered around the world, including Peru, Britain and Armenia. Thousands of years ago people were trying to understand the sky and were often using their observations to make predictions for agricultural and ceremonial purposes. The site Zorats Karer from Armenia dates back to the same period as the observatory from India. The constellation Ursa Major as it can be seen by the unaided eye ( public domain ) As Natalia Klimczak from Ancient Origins wrote :â€œZorats Karer is also known as Carahunge, Karahunj, Qarahunj. It is located in an area of around 7 hectares and covers the site nearby the Dar river canyon, close to the city of Sisan. The ancient site is often called the \"A rmenian Stonehenge ,\" but the truth of what it is may be even more fascinating. Related: Stonehenge is 5,000 Years Older Than Previously Thought According to researchers, Zorats Karer could be among the world's oldest astronomical observatories, and is at least 3,500 years older than British Stonehenge. The site was rediscovered in 1984 by a team led by researcher Onik Khnkikyan. After a few months of work, Khnkikyan concluded that the site of Zorats Karer must have been an observatory. Moreover, with time, Armenian archeologists, astronomers and astrophysicists found that there were at least two other ancient sites important for prehistoric astronomy in the vicinity: Angeghakot and Metzamor. A general view of the Karahunj site near Sisian, Southern Armenia. ( CC BY-SA 4.0 ) In 1994, Zorats Karer was extensively analyzed by Professor Paris Herouni, a member of the Armenian National Academy of Science and President of the Radio Physics Research Institute in Yerevan. His expeditions revealed a great deal of fascinating information about the site. First of all, his team counted 223 stones, of which 84 were found to have holes.They measured the longitude, latitude and the magnetic deviation of the site. The researchers also created a topographical map of the monumental megalithic construction, which became the basis of further work. Finally, the main treasure of the site was unearthed â€“ a collection of many impressive and unique astronomical objects. The researchers realized that several stones were used to make observations of the sun, moon and stars. They were located according to knowledge about the rising, culmination moments, and setting of the sun, moon and specific stars. The stones are basalt, somewhat protected by moss but smoothed by the rain and wind and full of holes and erosion. Many of the stones were damaged over time.In ancient times, the stones were shaped and arranged in what are known as the north and south arms, the central circle, the north-eastern alley, the separate standing system of circles and the chord. The stones are between 0.5 and 3 meters tall and weigh up to 10 tons. Some of them are related to burial cists.\" By Natalia Klimzcak, Ancient Origins / Cover image: Main: The Ursa Major constellation (Fotlia). Inset: The megalithic site in Telangana, India ( Bangalore Mirror ) This article was originally published on Ancient Origins and has been republished with permission. Dear Friends, HumansAreFree is and will always be free to access and use. If you appreciate my work, please help me continue.  Stay updated via Email Newsletter: Related\n",
      "\n",
      "svm_model_prediction: Fake News\n"
     ]
    }
   ],
   "source": [
    "news = str(input('Paste text here: \\n'))\n",
    "manual_testing(news)"
   ]
  },
  {
   "cell_type": "markdown",
   "id": "50b61e2c",
   "metadata": {},
   "source": [
    "---THE END---"
   ]
  },
  {
   "cell_type": "code",
   "execution_count": null,
   "id": "5fe2768f",
   "metadata": {},
   "outputs": [],
   "source": []
  }
 ],
 "metadata": {
  "kernelspec": {
   "display_name": "Python 3 (ipykernel)",
   "language": "python",
   "name": "python3"
  },
  "language_info": {
   "codemirror_mode": {
    "name": "ipython",
    "version": 3
   },
   "file_extension": ".py",
   "mimetype": "text/x-python",
   "name": "python",
   "nbconvert_exporter": "python",
   "pygments_lexer": "ipython3",
   "version": "3.9.7"
  }
 },
 "nbformat": 4,
 "nbformat_minor": 5
}
